{
 "cells": [
  {
   "cell_type": "code",
   "execution_count": null,
   "id": "717f9dd2",
   "metadata": {},
   "outputs": [],
   "source": []
  }
 ],
 "metadata": {
  "kernelspec": {
   "display_name": "Python 3.11.0 64-bit",
   "language": "python",
   "name": "python3"
  },
  "language_info": {
   "codemirror_mode": {
    "name": "ipython",
    "version": 3
   },
   "file_extension": ".py",
   "mimetype": "text/x-python",
   "name": "python",
   "nbconvert_exporter": "python",
   "pygments_lexer": "ipython3",
   "version": "3.11.0"
  },
  "vscode": {
   "interpreter": {
    "hash": "2b1df5c30c837e6c6307d87897e2ab565d3f2e30941b7892b564f44d6db255cd"
   }
  }
 },
 "nbformat": 4,
 "nbformat_minor": 5
}
