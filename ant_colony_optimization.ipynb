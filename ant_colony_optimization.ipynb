{
 "cells": [
  {
   "cell_type": "code",
   "execution_count": 3,
   "id": "717f9dd2",
   "metadata": {},
   "outputs": [],
   "source": [
    "from world import World"
   ]
  },
  {
   "cell_type": "code",
   "execution_count": 4,
   "id": "ccd5cc9e",
   "metadata": {},
   "outputs": [
    {
     "name": "stdout",
     "output_type": "stream",
     "text": [
      "m: 100, e: 0.9\n",
      "\tattempt 1 best ant cost: 5631446 \n",
      "\tant:[1, 22, 13, 36, 25, 49, 26, 47, 8, 16, 10, 30, 33, 45, 14, 19, 35, 38, 37, 4, 23, 28, 12, 9, 6, 2, 0, 41, 18, 24, 31, 48, 17, 15, 3, 7, 40, 32, 29, 43, 42, 5, 11, 20, 39, 34, 46, 21, 27, 44]\n",
      "\tattempt 2 best ant cost: 5631352 \n",
      "\tant:[6, 13, 16, 8, 37, 22, 36, 17, 31, 11, 43, 48, 46, 41, 28, 47, 34, 42, 26, 14, 29, 2, 5, 23, 25, 39, 3, 0, 21, 18, 44, 4, 19, 20, 15, 9, 24, 30, 45, 1, 33, 32, 40, 49, 35, 12, 10, 27, 7, 38]\n",
      "\tattempt 3 best ant cost: 5661916 \n",
      "\tant:[0, 32, 24, 36, 9, 45, 20, 23, 42, 16, 10, 37, 21, 35, 15, 1, 26, 34, 14, 41, 29, 46, 38, 2, 11, 39, 12, 44, 5, 8, 6, 19, 13, 40, 30, 17, 43, 47, 25, 27, 31, 49, 33, 22, 4, 18, 3, 28, 7, 48]\n",
      "\tattempt 4 best ant cost: 5658802 \n",
      "\tant:[6, 15, 28, 26, 35, 40, 29, 47, 8, 34, 41, 31, 5, 30, 36, 48, 9, 17, 11, 37, 27, 33, 42, 12, 14, 1, 24, 13, 23, 46, 20, 10, 25, 18, 38, 49, 32, 44, 45, 0, 22, 16, 4, 2, 21, 7, 3, 43, 39, 19]\n",
      "\tattempt 5 best ant cost: 5650226 \n",
      "\tant:[46, 15, 34, 48, 9, 42, 41, 5, 6, 35, 47, 14, 24, 43, 19, 38, 7, 21, 29, 1, 30, 49, 16, 0, 11, 12, 20, 31, 2, 44, 26, 17, 39, 3, 23, 25, 33, 37, 36, 13, 18, 28, 32, 27, 10, 40, 8, 45, 4, 22]\n"
     ]
    }
   ],
   "source": [
    "print(\"m: 100, e: 0.9\")\n",
    "\n",
    "for i in range(5):\n",
    "    w = World(\"Uni50a.dat\", m=100, e=0.9, print_data=False)\n",
    "    bestant_cost = 10000000000000000000000000000000000000000000000\n",
    "    bestant = []\n",
    "    for x in range(1000):\n",
    "        a = w.generate_ant_paths()\n",
    "        c, new_bestant, new_bestant_cost = w.calc_fitnesses(a, x+1, print_data=False)\n",
    "        w.apply_pheromones(a,c)\n",
    "        w.evaporate_pheromones()\n",
    "        if new_bestant_cost < bestant_cost:\n",
    "            bestant = new_bestant\n",
    "            bestant_cost = new_bestant_cost\n",
    "    print(\"\\tattempt {} best ant cost: {} \\n\\tant:{}\".format(i+1,bestant_cost,bestant))"
   ]
  },
  {
   "cell_type": "code",
   "execution_count": 5,
   "id": "f0a22680",
   "metadata": {},
   "outputs": [
    {
     "name": "stdout",
     "output_type": "stream",
     "text": [
      "m: 100, e: 0.5\n",
      "\tattempt 1 best ant cost: 5660586 \n",
      "\tant:[1, 27, 28, 18, 13, 22, 32, 41, 42, 35, 14, 24, 21, 20, 6, 45, 23, 34, 29, 15, 4, 30, 5, 3, 12, 9, 16, 31, 7, 11, 46, 2, 26, 47, 19, 36, 43, 48, 44, 25, 49, 37, 8, 39, 17, 0, 38, 33, 10, 40]\n",
      "\tattempt 2 best ant cost: 5677466 \n",
      "\tant:[42, 17, 46, 22, 6, 41, 2, 26, 47, 14, 23, 33, 1, 43, 15, 24, 9, 45, 13, 3, 5, 29, 40, 44, 34, 11, 19, 30, 12, 49, 32, 27, 21, 16, 48, 4, 10, 31, 37, 38, 8, 20, 28, 7, 36, 39, 18, 25, 0, 35]\n",
      "\tattempt 3 best ant cost: 5679002 \n",
      "\tant:[5, 48, 38, 21, 30, 2, 13, 36, 9, 4, 25, 31, 34, 40, 14, 26, 43, 19, 22, 35, 47, 7, 45, 20, 46, 15, 12, 39, 24, 6, 44, 42, 0, 8, 28, 29, 18, 41, 10, 17, 33, 16, 1, 49, 11, 3, 32, 27, 37, 23]\n",
      "\tattempt 4 best ant cost: 5665590 \n",
      "\tant:[4, 10, 31, 14, 16, 39, 47, 28, 2, 11, 25, 3, 48, 43, 18, 36, 34, 20, 41, 45, 26, 44, 17, 49, 30, 29, 42, 6, 40, 12, 33, 9, 22, 27, 46, 5, 35, 19, 32, 38, 0, 13, 21, 7, 37, 15, 1, 23, 8, 24]\n",
      "\tattempt 5 best ant cost: 5648286 \n",
      "\tant:[45, 5, 9, 25, 0, 44, 22, 21, 19, 23, 49, 34, 30, 47, 28, 36, 11, 27, 46, 26, 4, 8, 12, 3, 31, 40, 1, 6, 41, 35, 10, 24, 37, 2, 38, 14, 42, 17, 13, 29, 48, 33, 39, 20, 32, 15, 18, 7, 43, 16]\n"
     ]
    }
   ],
   "source": [
    "print(\"m: 100, e: 0.5\")\n",
    "\n",
    "for i in range(5):\n",
    "    w = World(\"Uni50a.dat\", m=100, e=0.5, print_data=False)\n",
    "    bestant_cost = 10000000000000000000000000000000000000000000000\n",
    "    bestant = []\n",
    "    for x in range(1000):\n",
    "        a = w.generate_ant_paths()\n",
    "        c, new_bestant, new_bestant_cost = w.calc_fitnesses(a, x+1, print_data=False)\n",
    "        w.apply_pheromones(a,c)\n",
    "        w.evaporate_pheromones()\n",
    "        if new_bestant_cost < bestant_cost:\n",
    "            bestant = new_bestant\n",
    "            bestant_cost = new_bestant_cost\n",
    "    print(\"\\tattempt {} best ant cost: {} \\n\\tant:{}\".format(i+1,bestant_cost,bestant))"
   ]
  },
  {
   "cell_type": "code",
   "execution_count": 6,
   "id": "c9dc98ac",
   "metadata": {},
   "outputs": [
    {
     "name": "stdout",
     "output_type": "stream",
     "text": [
      "m: 10, e: 0.9\n",
      "\tattempt 1 best ant cost: 5655128 \n",
      "\tant:[27, 14, 44, 30, 40, 26, 4, 24, 1, 12, 17, 47, 23, 42, 41, 6, 13, 45, 3, 33, 43, 0, 28, 9, 5, 10, 18, 31, 49, 21, 32, 36, 46, 29, 20, 38, 48, 11, 39, 15, 25, 2, 34, 7, 8, 35, 22, 16, 37, 19]\n",
      "\tattempt 2 best ant cost: 5701172 \n",
      "\tant:[1, 26, 21, 17, 42, 5, 4, 24, 36, 49, 25, 32, 39, 7, 14, 22, 31, 47, 10, 43, 2, 13, 41, 11, 9, 27, 6, 28, 3, 19, 12, 38, 34, 40, 0, 18, 44, 35, 46, 23, 33, 48, 29, 37, 15, 16, 30, 45, 8, 20]\n",
      "\tattempt 3 best ant cost: 5698298 \n",
      "\tant:[3, 41, 34, 35, 6, 48, 24, 44, 0, 16, 49, 30, 4, 7, 42, 36, 29, 32, 2, 18, 26, 23, 28, 38, 43, 8, 10, 39, 45, 12, 37, 21, 19, 40, 20, 13, 27, 17, 46, 14, 25, 15, 11, 47, 22, 33, 1, 31, 9, 5]\n",
      "\tattempt 4 best ant cost: 5683002 \n",
      "\tant:[17, 42, 31, 24, 1, 15, 33, 47, 21, 3, 45, 32, 38, 44, 49, 16, 40, 6, 4, 19, 46, 8, 2, 37, 35, 11, 10, 20, 29, 22, 34, 36, 48, 30, 9, 23, 13, 28, 18, 5, 25, 39, 0, 12, 41, 26, 7, 43, 27, 14]\n",
      "\tattempt 5 best ant cost: 5681270 \n",
      "\tant:[45, 0, 34, 28, 7, 29, 37, 32, 14, 48, 6, 2, 36, 39, 27, 46, 47, 18, 26, 1, 13, 23, 3, 8, 24, 10, 43, 16, 20, 35, 9, 22, 21, 11, 12, 49, 17, 33, 41, 44, 25, 31, 15, 19, 30, 5, 40, 38, 42, 4]\n"
     ]
    }
   ],
   "source": [
    "print(\"m: 10, e: 0.9\")\n",
    "\n",
    "for i in range(5):\n",
    "    w = World(\"Uni50a.dat\", m=10, e=0.9, print_data=False)\n",
    "    bestant_cost = 10000000000000000000000000000000000000000000000\n",
    "    bestant = []\n",
    "    for x in range(1000):\n",
    "        a = w.generate_ant_paths()\n",
    "        c, new_bestant, new_bestant_cost = w.calc_fitnesses(a, x+1, print_data=False)\n",
    "        w.apply_pheromones(a,c)\n",
    "        w.evaporate_pheromones()\n",
    "        if new_bestant_cost < bestant_cost:\n",
    "            bestant = new_bestant\n",
    "            bestant_cost = new_bestant_cost\n",
    "    print(\"\\tattempt {} best ant cost: {} \\n\\tant:{}\".format(i+1,bestant_cost,bestant))"
   ]
  },
  {
   "cell_type": "code",
   "execution_count": 7,
   "id": "9aaed6b0",
   "metadata": {},
   "outputs": [
    {
     "name": "stdout",
     "output_type": "stream",
     "text": [
      "m: 10, e: 0.5\n",
      "\tattempt 1 best ant cost: 5681934 \n",
      "\tant:[49, 9, 35, 46, 43, 13, 15, 25, 22, 26, 44, 48, 38, 41, 30, 2, 19, 34, 5, 18, 29, 28, 1, 11, 10, 37, 32, 47, 7, 3, 6, 33, 42, 39, 8, 36, 27, 40, 31, 17, 45, 20, 0, 12, 16, 23, 14, 4, 21, 24]\n",
      "\tattempt 2 best ant cost: 5667142 \n",
      "\tant:[4, 46, 10, 22, 43, 31, 49, 1, 7, 28, 41, 33, 45, 27, 47, 23, 35, 5, 38, 26, 34, 18, 32, 48, 9, 42, 12, 17, 15, 19, 24, 20, 44, 30, 39, 3, 14, 11, 21, 40, 6, 13, 36, 16, 2, 37, 29, 25, 0, 8]\n",
      "\tattempt 3 best ant cost: 5747046 \n",
      "\tant:[12, 46, 22, 20, 17, 16, 43, 2, 26, 36, 35, 6, 1, 27, 47, 42, 25, 23, 14, 3, 4, 5, 15, 19, 39, 18, 24, 45, 32, 37, 31, 11, 34, 0, 21, 30, 8, 7, 10, 44, 9, 13, 38, 49, 48, 33, 40, 41, 29, 28]\n",
      "\tattempt 4 best ant cost: 5659374 \n",
      "\tant:[41, 1, 5, 22, 30, 8, 26, 46, 19, 23, 45, 17, 6, 21, 18, 43, 12, 20, 10, 24, 36, 35, 15, 29, 9, 0, 14, 44, 3, 40, 39, 47, 34, 48, 13, 25, 37, 4, 38, 28, 7, 32, 33, 11, 42, 31, 49, 16, 2, 27]\n",
      "\tattempt 5 best ant cost: 5724752 \n",
      "\tant:[24, 2, 27, 11, 5, 46, 12, 16, 9, 42, 18, 32, 29, 1, 3, 6, 37, 22, 20, 25, 7, 26, 23, 4, 30, 34, 45, 14, 28, 47, 49, 0, 33, 40, 39, 44, 43, 17, 38, 10, 21, 31, 19, 48, 15, 41, 36, 35, 13, 8]\n"
     ]
    }
   ],
   "source": [
    "print(\"m: 10, e: 0.5\")\n",
    "\n",
    "for i in range(5):\n",
    "    w = World(\"Uni50a.dat\", m=10, e=0.5, print_data=False)\n",
    "    bestant_cost = 10000000000000000000000000000000000000000000000\n",
    "    bestant = []\n",
    "    for x in range(1000):\n",
    "        a = w.generate_ant_paths()\n",
    "        c, new_bestant, new_bestant_cost = w.calc_fitnesses(a, x+1, print_data=False)\n",
    "        w.apply_pheromones(a,c)\n",
    "        w.evaporate_pheromones()\n",
    "        if new_bestant_cost < bestant_cost:\n",
    "            bestant = new_bestant\n",
    "            bestant_cost = new_bestant_cost\n",
    "    print(\"\\tattempt {} best ant cost: {} \\n\\tant:{}\".format(i+1,bestant_cost,bestant))"
   ]
  }
 ],
 "metadata": {
  "kernelspec": {
   "display_name": "Python 3.11.0 64-bit",
   "language": "python",
   "name": "python3"
  },
  "language_info": {
   "codemirror_mode": {
    "name": "ipython",
    "version": 3
   },
   "file_extension": ".py",
   "mimetype": "text/x-python",
   "name": "python",
   "nbconvert_exporter": "python",
   "pygments_lexer": "ipython3",
   "version": "3.11.0"
  },
  "vscode": {
   "interpreter": {
    "hash": "2b1df5c30c837e6c6307d87897e2ab565d3f2e30941b7892b564f44d6db255cd"
   }
  }
 },
 "nbformat": 4,
 "nbformat_minor": 5
}
