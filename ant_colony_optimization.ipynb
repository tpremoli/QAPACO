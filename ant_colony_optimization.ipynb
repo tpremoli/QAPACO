{
 "cells": [
  {
   "cell_type": "code",
   "execution_count": 2,
   "id": "717f9dd2",
   "metadata": {},
   "outputs": [],
   "source": [
    "from world import World"
   ]
  },
  {
   "cell_type": "code",
   "execution_count": 1,
   "id": "ccd5cc9e",
   "metadata": {},
   "outputs": [
    {
     "name": "stdout",
     "output_type": "stream",
     "text": [
      "m: 100, e: 0.9\n"
     ]
    },
    {
     "ename": "NameError",
     "evalue": "name 'World' is not defined",
     "output_type": "error",
     "traceback": [
      "\u001b[1;31m---------------------------------------------------------------------------\u001b[0m",
      "\u001b[1;31mNameError\u001b[0m                                 Traceback (most recent call last)",
      "Cell \u001b[1;32mIn [1], line 4\u001b[0m\n\u001b[0;32m      1\u001b[0m \u001b[39mprint\u001b[39m(\u001b[39m\"\u001b[39m\u001b[39mm: 100, e: 0.9\u001b[39m\u001b[39m\"\u001b[39m)\n\u001b[0;32m      3\u001b[0m \u001b[39mfor\u001b[39;00m i \u001b[39min\u001b[39;00m \u001b[39mrange\u001b[39m(\u001b[39m5\u001b[39m):\n\u001b[1;32m----> 4\u001b[0m     w \u001b[39m=\u001b[39m World(\u001b[39m\"\u001b[39m\u001b[39mUni50a.dat\u001b[39m\u001b[39m\"\u001b[39m, m\u001b[39m=\u001b[39m\u001b[39m100\u001b[39m, e\u001b[39m=\u001b[39m\u001b[39m0.9\u001b[39m, print_data\u001b[39m=\u001b[39m\u001b[39mFalse\u001b[39;00m)\n\u001b[0;32m      5\u001b[0m     bestant_cost \u001b[39m=\u001b[39m \u001b[39m10000000000000000000000000000000000000000000000\u001b[39m\n\u001b[0;32m      6\u001b[0m     bestant \u001b[39m=\u001b[39m []\n",
      "\u001b[1;31mNameError\u001b[0m: name 'World' is not defined"
     ]
    }
   ],
   "source": [
    "print(\"m: 100, e: 0.9\")\n",
    "\n",
    "for i in range(5):\n",
    "    w = World(\"Uni50a.dat\", m=100, e=0.9, print_data=False)\n",
    "    bestant_cost = 10000000000000000000000000000000000000000000000\n",
    "    bestant = []\n",
    "    for x in range(1000):\n",
    "        a = w.generate_ant_paths()\n",
    "        c, new_bestant, new_bestant_cost = w.calc_fitnesses(a, x+1, print_data=False)\n",
    "        w.apply_pheromones(a,c)\n",
    "        w.evaporate_pheromones()\n",
    "        if new_bestant_cost < bestant_cost:\n",
    "            bestant = new_bestant\n",
    "            bestant_cost = new_bestant_cost\n",
    "    print(\"\\tattempt {} best ant cost: {} \\n\\tant:{}\".format(i+1,bestant_cost,bestant))"
   ]
  },
  {
   "cell_type": "code",
   "execution_count": null,
   "id": "f0a22680",
   "metadata": {},
   "outputs": [],
   "source": [
    "print(\"m: 100, e: 0.5\")\n",
    "\n",
    "for i in range(5):\n",
    "    w = World(\"Uni50a.dat\", m=100, e=0.5, print_data=False)\n",
    "    bestant_cost = 10000000000000000000000000000000000000000000000\n",
    "    bestant = []\n",
    "    for x in range(1000):\n",
    "        a = w.generate_ant_paths()\n",
    "        c, new_bestant, new_bestant_cost = w.calc_fitnesses(a, x+1, print_data=False)\n",
    "        w.apply_pheromones(a,c)\n",
    "        w.evaporate_pheromones()\n",
    "        if new_bestant_cost < bestant_cost:\n",
    "            bestant = new_bestant\n",
    "            bestant_cost = new_bestant_cost\n",
    "    print(\"\\tattempt {} best ant cost: {} \\n\\tant:{}\".format(i+1,bestant_cost,bestant))"
   ]
  },
  {
   "cell_type": "code",
   "execution_count": null,
   "id": "c9dc98ac",
   "metadata": {},
   "outputs": [],
   "source": [
    "print(\"m: 10, e: 0.9\")\n",
    "\n",
    "for i in range(5):\n",
    "    w = World(\"Uni50a.dat\", m=10, e=0.9, print_data=False)\n",
    "    bestant_cost = 10000000000000000000000000000000000000000000000\n",
    "    bestant = []\n",
    "    for x in range(1000):\n",
    "        a = w.generate_ant_paths()\n",
    "        c, new_bestant, new_bestant_cost = w.calc_fitnesses(a, x+1, print_data=False)\n",
    "        w.apply_pheromones(a,c)\n",
    "        w.evaporate_pheromones()\n",
    "        if new_bestant_cost < bestant_cost:\n",
    "            bestant = new_bestant\n",
    "            bestant_cost = new_bestant_cost\n",
    "    print(\"\\tattempt {} best ant cost: {} \\n\\tant:{}\".format(i+1,bestant_cost,bestant))"
   ]
  },
  {
   "cell_type": "code",
   "execution_count": null,
   "id": "9aaed6b0",
   "metadata": {},
   "outputs": [],
   "source": [
    "print(\"m: 10, e: 0.5\")\n",
    "\n",
    "for i in range(5):\n",
    "    w = World(\"Uni50a.dat\", m=10, e=0.5, print_data=False)\n",
    "    bestant_cost = 10000000000000000000000000000000000000000000000\n",
    "    bestant = []\n",
    "    for x in range(1000):\n",
    "        a = w.generate_ant_paths()\n",
    "        c, new_bestant, new_bestant_cost = w.calc_fitnesses(a, x+1, print_data=False)\n",
    "        w.apply_pheromones(a,c)\n",
    "        w.evaporate_pheromones()\n",
    "        if new_bestant_cost < bestant_cost:\n",
    "            bestant = new_bestant\n",
    "            bestant_cost = new_bestant_cost\n",
    "    print(\"\\tattempt {} best ant cost: {} \\n\\tant:{}\".format(i+1,bestant_cost,bestant))"
   ]
  }
 ],
 "metadata": {
  "kernelspec": {
   "display_name": "Python 3.11.0 64-bit",
   "language": "python",
   "name": "python3"
  },
  "language_info": {
   "codemirror_mode": {
    "name": "ipython",
    "version": 3
   },
   "file_extension": ".py",
   "mimetype": "text/x-python",
   "name": "python",
   "nbconvert_exporter": "python",
   "pygments_lexer": "ipython3",
   "version": "3.11.0"
  },
  "vscode": {
   "interpreter": {
    "hash": "2b1df5c30c837e6c6307d87897e2ab565d3f2e30941b7892b564f44d6db255cd"
   }
  }
 },
 "nbformat": 4,
 "nbformat_minor": 5
}
